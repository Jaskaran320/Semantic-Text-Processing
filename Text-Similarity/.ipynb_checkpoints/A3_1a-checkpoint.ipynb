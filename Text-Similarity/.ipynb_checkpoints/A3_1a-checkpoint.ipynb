{
 "cells": [
  {
   "cell_type": "markdown",
   "id": "3cc0afc8-fa2b-4ed0-b629-5eb00123bdbd",
   "metadata": {},
   "source": [
    "# 1. Loading data"
   ]
  },
  {
   "cell_type": "code",
   "execution_count": 1,
   "id": "dd708262-ba75-4fdc-96d1-6e7cd39e0b84",
   "metadata": {},
   "outputs": [
    {
     "data": {
      "text/html": [
       "<div>\n",
       "<style scoped>\n",
       "    .dataframe tbody tr th:only-of-type {\n",
       "        vertical-align: middle;\n",
       "    }\n",
       "\n",
       "    .dataframe tbody tr th {\n",
       "        vertical-align: top;\n",
       "    }\n",
       "\n",
       "    .dataframe thead th {\n",
       "        text-align: right;\n",
       "    }\n",
       "</style>\n",
       "<table border=\"1\" class=\"dataframe\">\n",
       "  <thead>\n",
       "    <tr style=\"text-align: right;\">\n",
       "      <th></th>\n",
       "      <th>score</th>\n",
       "      <th>sentence1</th>\n",
       "      <th>sentence2</th>\n",
       "    </tr>\n",
       "  </thead>\n",
       "  <tbody>\n",
       "    <tr>\n",
       "      <th>0</th>\n",
       "      <td>5.00</td>\n",
       "      <td>A plane is taking off.</td>\n",
       "      <td>An air plane is taking off.</td>\n",
       "    </tr>\n",
       "    <tr>\n",
       "      <th>1</th>\n",
       "      <td>3.80</td>\n",
       "      <td>A man is playing a large flute.</td>\n",
       "      <td>A man is playing a flute.</td>\n",
       "    </tr>\n",
       "    <tr>\n",
       "      <th>2</th>\n",
       "      <td>3.80</td>\n",
       "      <td>A man is spreading shreded cheese on a pizza.</td>\n",
       "      <td>A man is spreading shredded cheese on an uncoo...</td>\n",
       "    </tr>\n",
       "    <tr>\n",
       "      <th>3</th>\n",
       "      <td>2.60</td>\n",
       "      <td>Three men are playing chess.</td>\n",
       "      <td>Two men are playing chess.</td>\n",
       "    </tr>\n",
       "    <tr>\n",
       "      <th>4</th>\n",
       "      <td>4.25</td>\n",
       "      <td>A man is playing the cello.</td>\n",
       "      <td>A man seated is playing the cello.</td>\n",
       "    </tr>\n",
       "    <tr>\n",
       "      <th>...</th>\n",
       "      <td>...</td>\n",
       "      <td>...</td>\n",
       "      <td>...</td>\n",
       "    </tr>\n",
       "    <tr>\n",
       "      <th>5706</th>\n",
       "      <td>0.00</td>\n",
       "      <td>Severe Gales As Storm Clodagh Hits Britain</td>\n",
       "      <td>Merkel pledges NATO solidarity with Latvia</td>\n",
       "    </tr>\n",
       "    <tr>\n",
       "      <th>5707</th>\n",
       "      <td>0.00</td>\n",
       "      <td>Dozens of Egyptians hostages taken by Libyan t...</td>\n",
       "      <td>Egyptian boat crash death toll rises as more b...</td>\n",
       "    </tr>\n",
       "    <tr>\n",
       "      <th>5708</th>\n",
       "      <td>0.00</td>\n",
       "      <td>President heading to Bahrain</td>\n",
       "      <td>President Xi: China to continue help to fight ...</td>\n",
       "    </tr>\n",
       "    <tr>\n",
       "      <th>5709</th>\n",
       "      <td>0.00</td>\n",
       "      <td>China, India vow to further bilateral ties</td>\n",
       "      <td>China Scrambles to Reassure Jittery Stock Traders</td>\n",
       "    </tr>\n",
       "    <tr>\n",
       "      <th>5710</th>\n",
       "      <td>0.00</td>\n",
       "      <td>Putin spokesman: Doping charges appear unfounded</td>\n",
       "      <td>The Latest on Severe Weather: 1 Dead in Texas ...</td>\n",
       "    </tr>\n",
       "  </tbody>\n",
       "</table>\n",
       "<p>5711 rows × 3 columns</p>\n",
       "</div>"
      ],
      "text/plain": [
       "      score                                          sentence1  \\\n",
       "0      5.00                             A plane is taking off.   \n",
       "1      3.80                    A man is playing a large flute.   \n",
       "2      3.80      A man is spreading shreded cheese on a pizza.   \n",
       "3      2.60                       Three men are playing chess.   \n",
       "4      4.25                        A man is playing the cello.   \n",
       "...     ...                                                ...   \n",
       "5706   0.00         Severe Gales As Storm Clodagh Hits Britain   \n",
       "5707   0.00  Dozens of Egyptians hostages taken by Libyan t...   \n",
       "5708   0.00                       President heading to Bahrain   \n",
       "5709   0.00         China, India vow to further bilateral ties   \n",
       "5710   0.00   Putin spokesman: Doping charges appear unfounded   \n",
       "\n",
       "                                              sentence2  \n",
       "0                           An air plane is taking off.  \n",
       "1                             A man is playing a flute.  \n",
       "2     A man is spreading shredded cheese on an uncoo...  \n",
       "3                            Two men are playing chess.  \n",
       "4                    A man seated is playing the cello.  \n",
       "...                                                 ...  \n",
       "5706         Merkel pledges NATO solidarity with Latvia  \n",
       "5707  Egyptian boat crash death toll rises as more b...  \n",
       "5708  President Xi: China to continue help to fight ...  \n",
       "5709  China Scrambles to Reassure Jittery Stock Traders  \n",
       "5710  The Latest on Severe Weather: 1 Dead in Texas ...  \n",
       "\n",
       "[5711 rows x 3 columns]"
      ]
     },
     "execution_count": 1,
     "metadata": {},
     "output_type": "execute_result"
    }
   ],
   "source": [
    "import pandas as pd\n",
    "from os import path\n",
    "\n",
    "df_train = pd.read_csv(path.join('data', 'train.csv'), delimiter='\\t')\n",
    "df_val = pd.read_csv(path.join('data', 'dev.csv'), delimiter='\\t')\n",
    "df_sample_test = pd.read_csv(path.join('data', 'sample_demo.csv'), delimiter='\\t')\n",
    "df_sample_demo = pd.read_csv(path.join('data', 'sample_test.csv'), delimiter='\\t')\n",
    "\n",
    "for df in [df_train, df_val, df_sample_test, df_sample_demo]:\n",
    "    if 'setence1' in df.columns:\n",
    "        df.rename(columns={'setence1': 'sentence1'}, inplace=True)\n",
    "    df['sentence1']= df['sentence1'].astype(str)\n",
    "    df['sentence2']= df['sentence2'].astype(str)\n",
    "\n",
    "df_train"
   ]
  },
  {
   "cell_type": "code",
   "execution_count": 2,
   "id": "b1293d94-6cb5-424b-a0b2-6efeea3817ce",
   "metadata": {},
   "outputs": [
    {
     "name": "stdout",
     "output_type": "stream",
     "text": [
      "367 2357\n",
      "473 2361\n",
      "36 40\n",
      "36 40\n"
     ]
    }
   ],
   "source": [
    "print(df_train.sentence1.str.len().max(), df_train.sentence2.str.len().max())\n",
    "print(df_val.sentence1.str.len().max(), df_val.sentence2.str.len().max())\n",
    "print(df_sample_test.sentence1.str.len().max(), df_sample_test.sentence2.str.len().max())\n",
    "print(df_sample_demo.sentence1.str.len().max(), df_sample_demo.sentence2.str.len().max())"
   ]
  },
  {
   "cell_type": "code",
   "execution_count": 3,
   "id": "f3f3aef1-75c8-4ba0-b2fb-22ede918626e",
   "metadata": {},
   "outputs": [],
   "source": [
    "from torch.utils.data import Dataset, DataLoader\n",
    "\n",
    "max_len = 512    # Chosen based on max sentence1 length in dataset. sentence2 max length is too long.\n",
    "\n",
    "class SimilarityDataset(Dataset):\n",
    "    def __init__(self, df, tokenizer, max_len):\n",
    "        self.sentence1 = df.sentence1\n",
    "        self.sentence2 = df.sentence2\n",
    "        self.targets = df.score\n",
    "        self.tokenizer = tokenizer\n",
    "        self.max_len = max_len\n",
    "\n",
    "    def __len__(self):\n",
    "        return len(self.sentence1)\n",
    "\n",
    "    def __getitem__(self, item):\n",
    "        sentence1 = self.sentence1[item]\n",
    "        sentence2 = self.sentence2[item]\n",
    "        text = sentence1 + \" [SEP] \" + sentence2\n",
    "        target = self.targets[item]\n",
    "    \n",
    "        encoding = tokenizer.encode_plus(\n",
    "            text,\n",
    "            return_tensors='pt',\n",
    "            max_length=max_len,\n",
    "            return_token_type_ids=False,\n",
    "            truncation=True,\n",
    "            add_special_tokens=True,\n",
    "            return_attention_mask=True,\n",
    "            padding='max_length',\n",
    "        )\n",
    "    \n",
    "        return {\n",
    "            'sentence1': sentence1,\n",
    "            'sentence2': sentence2,\n",
    "            'input_ids': encoding['input_ids'].flatten(),\n",
    "            'attention_mask': encoding['attention_mask'].flatten(),\n",
    "            'labels': torch.tensor(target, dtype=torch.float)\n",
    "        }"
   ]
  },
  {
   "cell_type": "markdown",
   "id": "21a78dfa-5f04-42ae-925f-8d751cdca8a2",
   "metadata": {},
   "source": [
    "# 2. Loading pretrained BERT base uncased"
   ]
  },
  {
   "cell_type": "code",
   "execution_count": 4,
   "id": "732e7370-1001-45d3-998b-26adb22a4c89",
   "metadata": {},
   "outputs": [
    {
     "name": "stderr",
     "output_type": "stream",
     "text": [
      "Some weights of BertForSequenceClassification were not initialized from the model checkpoint at bert-base-uncased and are newly initialized: ['classifier.bias', 'classifier.weight']\n",
      "You should probably TRAIN this model on a down-stream task to be able to use it for predictions and inference.\n"
     ]
    },
    {
     "name": "stdout",
     "output_type": "stream",
     "text": [
      "cuda:0\n"
     ]
    }
   ],
   "source": [
    "from transformers import BertTokenizer, BertForSequenceClassification\n",
    "import torch\n",
    "\n",
    "tokenizer = BertTokenizer.from_pretrained('bert-base-uncased')\n",
    "model = BertForSequenceClassification.from_pretrained('bert-base-uncased', num_labels=1, problem_type=\"regression\")\n",
    "device = torch.device(\"cuda\")\n",
    "print(device)"
   ]
  },
  {
   "cell_type": "markdown",
   "id": "eb923b28-84b3-4caf-8eb5-d7d4b3068edd",
   "metadata": {},
   "source": [
    "# 3. Preparing to train"
   ]
  },
  {
   "cell_type": "code",
   "execution_count": 5,
   "id": "bbb1daf3-08a4-4fca-b87d-f727da55cc8f",
   "metadata": {},
   "outputs": [],
   "source": [
    "train_dataset = SimilarityDataset(df_train, tokenizer, max_len=max_len)\n",
    "val_dataset = SimilarityDataset(df_val, tokenizer, max_len=max_len)\n",
    "test_dataset = SimilarityDataset(df_sample_test, tokenizer, max_len=max_len)"
   ]
  },
  {
   "cell_type": "markdown",
   "id": "bf477293-7ff7-4298-9893-abd07a950125",
   "metadata": {},
   "source": [
    "### 3.1. Sample usage of [SEP] during tokenization"
   ]
  },
  {
   "cell_type": "code",
   "execution_count": 6,
   "id": "87e259fe-2e2a-4a2d-8c9f-920e3680d6de",
   "metadata": {},
   "outputs": [
    {
     "name": "stdout",
     "output_type": "stream",
     "text": [
      "['[CLS]', 'a', 'plane', 'is', 'taking', 'off', '.', '[SEP]', 'an', 'air', 'plane', 'is', 'taking', 'off', '.', '[SEP]']\n"
     ]
    }
   ],
   "source": [
    "train_dataloader = DataLoader(train_dataset)\n",
    "data = next(iter(train_dataloader))\n",
    "tokens = tokenizer.convert_ids_to_tokens(data['input_ids'][0])\n",
    "tokens_without_pad = tokens[:tokens.index('[PAD]')]\n",
    "\n",
    "print(tokens_without_pad)"
   ]
  },
  {
   "cell_type": "markdown",
   "id": "2dea59ea-0551-42c1-9fd7-9d1f06a09fa8",
   "metadata": {},
   "source": [
    "## 3.2. Preparing extra validation metrics\n",
    "\n",
    "#### Note: MSE is used as loss function (defaulted by HuggingFace due to being a regression model)"
   ]
  },
  {
   "cell_type": "code",
   "execution_count": 7,
   "id": "19e24096-4f43-4066-8413-04178b3dec59",
   "metadata": {},
   "outputs": [],
   "source": [
    "import numpy as np\n",
    "from sklearn.metrics import mean_squared_error, r2_score\n",
    "\n",
    "def compute_metrics(eval_pred):\n",
    "    logits, labels = eval_pred\n",
    "\n",
    "    mse = mean_squared_error(labels, logits)\n",
    "    r2 = r2_score(labels, logits)\n",
    "\n",
    "    return {\n",
    "        'RMSE': mse**0.5,\n",
    "        'R2': r2,\n",
    "    }"
   ]
  },
  {
   "cell_type": "markdown",
   "id": "c016ecbf-a6b3-4b4f-bc08-3be6085eedbd",
   "metadata": {},
   "source": [
    "# 4. Training"
   ]
  },
  {
   "cell_type": "code",
   "execution_count": 8,
   "id": "21c92a7d-f1ea-4115-94f1-917f11ccd7b6",
   "metadata": {},
   "outputs": [
    {
     "name": "stderr",
     "output_type": "stream",
     "text": [
      "C:\\Users\\Ambuj\\miniconda3\\envs\\sandbox-ml\\lib\\site-packages\\accelerate\\accelerator.py:432: FutureWarning: Passing the following arguments to `Accelerator` is deprecated and will be removed in version 1.0 of Accelerate: dict_keys(['dispatch_batches', 'split_batches', 'even_batches', 'use_seedable_sampler']). Please pass an `accelerate.DataLoaderConfiguration` instead: \n",
      "dataloader_config = DataLoaderConfiguration(dispatch_batches=None, split_batches=False, even_batches=True, use_seedable_sampler=True)\n",
      "  warnings.warn(\n"
     ]
    }
   ],
   "source": [
    "from transformers import TrainingArguments, Trainer\n",
    "\n",
    "training_args = TrainingArguments(\n",
    "    output_dir=\"task-1a-runs\",\n",
    "    per_device_train_batch_size=32,\n",
    "    learning_rate=5e-5,\n",
    "    num_train_epochs=2,\n",
    "    evaluation_strategy='steps',\n",
    "    fp16=True,\n",
    "    logging_steps=0.05, # every 5% of total training\n",
    "    save_steps=0.05,\n",
    "    logging_first_step=True,\n",
    "    load_best_model_at_end=True, # save our model at each evaluation step.\n",
    "    # max_steps=100  # Use during debugging for stopping training early\n",
    ")\n",
    "\n",
    "trainer = Trainer(\n",
    "    model=model,\n",
    "    args=training_args,\n",
    "    train_dataset=train_dataset,\n",
    "    eval_dataset=val_dataset,\n",
    "    compute_metrics=compute_metrics,\n",
    ")"
   ]
  },
  {
   "cell_type": "code",
   "execution_count": 9,
   "id": "dabac214-24a8-42c4-83ce-17e1b46b431f",
   "metadata": {},
   "outputs": [
    {
     "data": {
      "text/html": [
       "\n",
       "    <div>\n",
       "      \n",
       "      <progress value='358' max='358' style='width:300px; height:20px; vertical-align: middle;'></progress>\n",
       "      [358/358 1:43:40, Epoch 2/2]\n",
       "    </div>\n",
       "    <table border=\"1\" class=\"dataframe\">\n",
       "  <thead>\n",
       " <tr style=\"text-align: left;\">\n",
       "      <th>Step</th>\n",
       "      <th>Training Loss</th>\n",
       "      <th>Validation Loss</th>\n",
       "      <th>Rmse</th>\n",
       "      <th>R2</th>\n",
       "    </tr>\n",
       "  </thead>\n",
       "  <tbody>\n",
       "    <tr>\n",
       "      <td>18</td>\n",
       "      <td>4.850700</td>\n",
       "      <td>2.438286</td>\n",
       "      <td>1.561501</td>\n",
       "      <td>-0.081355</td>\n",
       "    </tr>\n",
       "    <tr>\n",
       "      <td>36</td>\n",
       "      <td>1.638000</td>\n",
       "      <td>2.124908</td>\n",
       "      <td>1.457706</td>\n",
       "      <td>0.057624</td>\n",
       "    </tr>\n",
       "    <tr>\n",
       "      <td>54</td>\n",
       "      <td>1.267900</td>\n",
       "      <td>1.083737</td>\n",
       "      <td>1.041027</td>\n",
       "      <td>0.519373</td>\n",
       "    </tr>\n",
       "    <tr>\n",
       "      <td>72</td>\n",
       "      <td>0.999800</td>\n",
       "      <td>0.785865</td>\n",
       "      <td>0.886490</td>\n",
       "      <td>0.651477</td>\n",
       "    </tr>\n",
       "    <tr>\n",
       "      <td>90</td>\n",
       "      <td>0.839100</td>\n",
       "      <td>0.831372</td>\n",
       "      <td>0.911796</td>\n",
       "      <td>0.631295</td>\n",
       "    </tr>\n",
       "    <tr>\n",
       "      <td>108</td>\n",
       "      <td>0.806000</td>\n",
       "      <td>0.732151</td>\n",
       "      <td>0.855658</td>\n",
       "      <td>0.675298</td>\n",
       "    </tr>\n",
       "    <tr>\n",
       "      <td>126</td>\n",
       "      <td>0.805600</td>\n",
       "      <td>0.697780</td>\n",
       "      <td>0.835332</td>\n",
       "      <td>0.690542</td>\n",
       "    </tr>\n",
       "    <tr>\n",
       "      <td>144</td>\n",
       "      <td>0.700700</td>\n",
       "      <td>0.697093</td>\n",
       "      <td>0.834921</td>\n",
       "      <td>0.690846</td>\n",
       "    </tr>\n",
       "    <tr>\n",
       "      <td>162</td>\n",
       "      <td>0.680300</td>\n",
       "      <td>0.627644</td>\n",
       "      <td>0.792240</td>\n",
       "      <td>0.721646</td>\n",
       "    </tr>\n",
       "    <tr>\n",
       "      <td>180</td>\n",
       "      <td>0.564100</td>\n",
       "      <td>0.615176</td>\n",
       "      <td>0.784332</td>\n",
       "      <td>0.727176</td>\n",
       "    </tr>\n",
       "    <tr>\n",
       "      <td>198</td>\n",
       "      <td>0.468200</td>\n",
       "      <td>0.789432</td>\n",
       "      <td>0.888500</td>\n",
       "      <td>0.649895</td>\n",
       "    </tr>\n",
       "    <tr>\n",
       "      <td>216</td>\n",
       "      <td>0.539800</td>\n",
       "      <td>0.646413</td>\n",
       "      <td>0.803998</td>\n",
       "      <td>0.713322</td>\n",
       "    </tr>\n",
       "    <tr>\n",
       "      <td>234</td>\n",
       "      <td>0.418400</td>\n",
       "      <td>0.783815</td>\n",
       "      <td>0.885333</td>\n",
       "      <td>0.652386</td>\n",
       "    </tr>\n",
       "    <tr>\n",
       "      <td>252</td>\n",
       "      <td>0.543700</td>\n",
       "      <td>0.599233</td>\n",
       "      <td>0.774101</td>\n",
       "      <td>0.734246</td>\n",
       "    </tr>\n",
       "    <tr>\n",
       "      <td>270</td>\n",
       "      <td>0.453700</td>\n",
       "      <td>0.602710</td>\n",
       "      <td>0.776344</td>\n",
       "      <td>0.732704</td>\n",
       "    </tr>\n",
       "    <tr>\n",
       "      <td>288</td>\n",
       "      <td>0.438600</td>\n",
       "      <td>0.607313</td>\n",
       "      <td>0.779303</td>\n",
       "      <td>0.730663</td>\n",
       "    </tr>\n",
       "    <tr>\n",
       "      <td>306</td>\n",
       "      <td>0.505800</td>\n",
       "      <td>0.616090</td>\n",
       "      <td>0.784914</td>\n",
       "      <td>0.726770</td>\n",
       "    </tr>\n",
       "    <tr>\n",
       "      <td>324</td>\n",
       "      <td>0.448400</td>\n",
       "      <td>0.598390</td>\n",
       "      <td>0.773557</td>\n",
       "      <td>0.734620</td>\n",
       "    </tr>\n",
       "    <tr>\n",
       "      <td>342</td>\n",
       "      <td>0.431900</td>\n",
       "      <td>0.600753</td>\n",
       "      <td>0.775083</td>\n",
       "      <td>0.733572</td>\n",
       "    </tr>\n",
       "  </tbody>\n",
       "</table><p>"
      ],
      "text/plain": [
       "<IPython.core.display.HTML object>"
      ]
     },
     "metadata": {},
     "output_type": "display_data"
    },
    {
     "data": {
      "text/plain": [
       "TrainOutput(global_step=358, training_loss=0.8996334328997735, metrics={'train_runtime': 6229.6007, 'train_samples_per_second': 1.834, 'train_steps_per_second': 0.057, 'total_flos': 3005227491354624.0, 'train_loss': 0.8996334328997735, 'epoch': 2.0})"
      ]
     },
     "execution_count": 9,
     "metadata": {},
     "output_type": "execute_result"
    }
   ],
   "source": [
    "# RMSE, R2 metrics here are validation metrics\n",
    "\n",
    "trainer.train()"
   ]
  },
  {
   "cell_type": "code",
   "execution_count": 53,
   "id": "50d9c0db-dada-40aa-b9ab-555300d3cf3b",
   "metadata": {},
   "outputs": [],
   "source": [
    "df_log_history = pd.DataFrame(trainer.state.log_history)\n",
    "\n",
    "training_logs = df_log_history[df_log_history['loss'].notnull()]\n",
    "training_loss = training_logs['loss'].tolist()\n",
    "training_epochs = training_logs['epoch'].tolist()\n",
    "\n",
    "eval_logs = df_log_history[df_log_history['eval_loss'].notnull()]\n",
    "eval_loss = eval_logs['eval_loss'].tolist()\n",
    "eval_epochs = eval_logs['epoch'].tolist()"
   ]
  },
  {
   "cell_type": "code",
   "execution_count": 54,
   "id": "8509d4f2-bc5a-4e79-9d81-1dddbba9c686",
   "metadata": {},
   "outputs": [
    {
     "data": {
      "image/png": "[encoded data removed]",
      "text/plain": [
       "<Figure size 1000x600 with 1 Axes>"
      ]
     },
     "metadata": {},
     "output_type": "display_data"
    }
   ],
   "source": [
    "import matplotlib.pyplot as plt\n",
    "\n",
    "# Loss vs Epochs\n",
    "plt.figure(figsize=(10, 6))\n",
    "plt.plot(training_epochs, training_loss, label='Training Loss')\n",
    "plt.plot(eval_epochs, eval_loss, label='Eval Loss')\n",
    "plt.xlabel('Epoch')\n",
    "plt.ylabel('Loss')\n",
    "plt.title('Loss vs Epoch')\n",
    "plt.legend()\n",
    "plt.show()"
   ]
  },
  {
   "cell_type": "code",
   "execution_count": 16,
   "id": "09b024a5-3d01-47a7-9862-307d1f213a82",
   "metadata": {},
   "outputs": [],
   "source": [
    "trainer.save_model(\"model-task-1a\")"
   ]
  },
  {
   "cell_type": "markdown",
   "id": "722ba781-d742-45c7-9a1d-5600c655c7bb",
   "metadata": {},
   "source": [
    "# 5. Evaluation metric"
   ]
  },
  {
   "cell_type": "code",
   "execution_count": 14,
   "id": "3efd5197-c28d-4916-b871-4f5ae67726b6",
   "metadata": {},
   "outputs": [
    {
     "name": "stderr",
     "output_type": "stream",
     "text": [
      "100%|██████████████████████████████████████████████████████████████████████████████| 1470/1470 [01:52<00:00, 13.06it/s]\n"
     ]
    }
   ],
   "source": [
    "from tqdm import tqdm\n",
    "\n",
    "eval_dataloader = DataLoader(val_dataset)\n",
    "predictions, ground_truth = [], []\n",
    "\n",
    "model.eval()\n",
    "with torch.no_grad():\n",
    "    for batch in tqdm(eval_dataloader):\n",
    "        inp_ids = batch['input_ids'].to(device)\n",
    "        atn_mask = attention_mask=batch['attention_mask'].to(device)\n",
    "        outputs = trainer.model(inp_ids, atn_mask)\n",
    "\n",
    "        predictions.extend(outputs.logits.squeeze(-1).tolist())\n",
    "        ground_truth.extend(batch['labels'].tolist())"
   ]
  },
  {
   "cell_type": "markdown",
   "id": "8308338a-d627-4b73-9527-4d0500fa8d39",
   "metadata": {},
   "source": [
    "### 5.1. Pearson Correlation Coefficient on Validation Dataset"
   ]
  },
  {
   "cell_type": "code",
   "execution_count": 15,
   "id": "1f845d8d-bf4c-4a4a-b6bf-606655054253",
   "metadata": {},
   "outputs": [
    {
     "name": "stdout",
     "output_type": "stream",
     "text": [
      "0.861\n"
     ]
    }
   ],
   "source": [
    "import evaluate\n",
    "\n",
    "pearsonr_metric = evaluate.load(\"pearsonr\")\n",
    "results = pearsonr_metric.compute(predictions=predictions, references=ground_truth)\n",
    "print(round(results['pearsonr'], 3))"
   ]
  },
  {
   "cell_type": "markdown",
   "id": "f61a1065-0702-4e03-b3aa-1f8328843c9a",
   "metadata": {},
   "source": [
    "# 6. Demonstration on sample_test.csv\n",
    "Useful for eyeballing model's output values"
   ]
  },
  {
   "cell_type": "code",
   "execution_count": 33,
   "id": "7991aa13-d130-4ec9-84db-a4ce6f53fa25",
   "metadata": {},
   "outputs": [
    {
     "name": "stderr",
     "output_type": "stream",
     "text": [
      "100%|████████████████████████████████████████████████████████████████████████████████████| 6/6 [00:00<00:00, 12.88it/s]\n"
     ]
    },
    {
     "data": {
      "text/html": [
       "<div>\n",
       "<style scoped>\n",
       "    .dataframe tbody tr th:only-of-type {\n",
       "        vertical-align: middle;\n",
       "    }\n",
       "\n",
       "    .dataframe tbody tr th {\n",
       "        vertical-align: top;\n",
       "    }\n",
       "\n",
       "    .dataframe thead th {\n",
       "        text-align: right;\n",
       "    }\n",
       "</style>\n",
       "<table border=\"1\" class=\"dataframe\">\n",
       "  <thead>\n",
       "    <tr style=\"text-align: right;\">\n",
       "      <th></th>\n",
       "      <th>id</th>\n",
       "      <th>score</th>\n",
       "      <th>sentence1</th>\n",
       "      <th>sentence2</th>\n",
       "      <th>prediction</th>\n",
       "    </tr>\n",
       "  </thead>\n",
       "  <tbody>\n",
       "    <tr>\n",
       "      <th>0</th>\n",
       "      <td>1</td>\n",
       "      <td>5.000</td>\n",
       "      <td>A man with a hard hat is dancing.</td>\n",
       "      <td>A man wearing a hard hat is dancing.</td>\n",
       "      <td>4.770</td>\n",
       "    </tr>\n",
       "    <tr>\n",
       "      <th>1</th>\n",
       "      <td>2</td>\n",
       "      <td>4.750</td>\n",
       "      <td>A young child is riding a horse.</td>\n",
       "      <td>A child is riding a horse.</td>\n",
       "      <td>4.531</td>\n",
       "    </tr>\n",
       "    <tr>\n",
       "      <th>2</th>\n",
       "      <td>3</td>\n",
       "      <td>5.000</td>\n",
       "      <td>A man is feeding a mouse to a snake.</td>\n",
       "      <td>The man is feeding a mouse to the snake.</td>\n",
       "      <td>4.695</td>\n",
       "    </tr>\n",
       "    <tr>\n",
       "      <th>3</th>\n",
       "      <td>4</td>\n",
       "      <td>2.400</td>\n",
       "      <td>A woman is playing the guitar.</td>\n",
       "      <td>A man is playing guitar.</td>\n",
       "      <td>2.500</td>\n",
       "    </tr>\n",
       "    <tr>\n",
       "      <th>4</th>\n",
       "      <td>5</td>\n",
       "      <td>2.750</td>\n",
       "      <td>A woman is playing the flute.</td>\n",
       "      <td>A man is playing a flute.</td>\n",
       "      <td>2.732</td>\n",
       "    </tr>\n",
       "    <tr>\n",
       "      <th>5</th>\n",
       "      <td>6</td>\n",
       "      <td>2.615</td>\n",
       "      <td>A woman is cutting an onion.</td>\n",
       "      <td>A man is cutting onions.</td>\n",
       "      <td>2.805</td>\n",
       "    </tr>\n",
       "  </tbody>\n",
       "</table>\n",
       "</div>"
      ],
      "text/plain": [
       "   id  score                             sentence1  \\\n",
       "0   1  5.000     A man with a hard hat is dancing.   \n",
       "1   2  4.750      A young child is riding a horse.   \n",
       "2   3  5.000  A man is feeding a mouse to a snake.   \n",
       "3   4  2.400        A woman is playing the guitar.   \n",
       "4   5  2.750         A woman is playing the flute.   \n",
       "5   6  2.615          A woman is cutting an onion.   \n",
       "\n",
       "                                  sentence2  prediction  \n",
       "0      A man wearing a hard hat is dancing.       4.770  \n",
       "1                A child is riding a horse.       4.531  \n",
       "2  The man is feeding a mouse to the snake.       4.695  \n",
       "3                  A man is playing guitar.       2.500  \n",
       "4                 A man is playing a flute.       2.732  \n",
       "5                  A man is cutting onions.       2.805  "
      ]
     },
     "execution_count": 33,
     "metadata": {},
     "output_type": "execute_result"
    }
   ],
   "source": [
    "df_sample_eval = df_sample_test.copy()\n",
    "\n",
    "predictions = []\n",
    "\n",
    "for item in tqdm(range(len(df_sample_eval))):\n",
    "    sentence1 = df_sample_eval.sentence1[item]\n",
    "    sentence2 = df_sample_eval.sentence2[item]\n",
    "    text = sentence1 + \" [SEP] \" + sentence2\n",
    "    \n",
    "    encoding = tokenizer.encode_plus(\n",
    "        text,\n",
    "        return_tensors='pt',\n",
    "        max_length=max_len,\n",
    "        return_token_type_ids=False,\n",
    "        truncation=True,\n",
    "        add_special_tokens=True,\n",
    "        return_attention_mask=True,\n",
    "        padding='max_length',\n",
    "    )\n",
    "    \n",
    "    encoding = encoding.to(device)\n",
    "    predictions.append(round(float(trainer.model(**encoding).logits[0][0]), 3))\n",
    "\n",
    "df_sample_eval['prediction'] = predictions\n",
    "df_sample_eval"
   ]
  }
 ],
 "metadata": {
  "kernelspec": {
   "display_name": "Python 3 (ipykernel)",
   "language": "python",
   "name": "python3"
  },
  "language_info": {
   "codemirror_mode": {
    "name": "ipython",
    "version": 3
   },
   "file_extension": ".py",
   "mimetype": "text/x-python",
   "name": "python",
   "nbconvert_exporter": "python",
   "pygments_lexer": "ipython3",
   "version": "3.8.18"
  }
 },
 "nbformat": 4,
 "nbformat_minor": 5
}
