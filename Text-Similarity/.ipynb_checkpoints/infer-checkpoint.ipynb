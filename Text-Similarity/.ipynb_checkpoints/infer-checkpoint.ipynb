{
 "cells": [
  {
   "cell_type": "markdown",
   "id": "1b1c2748-096c-4d60-b275-f759a0a7d1a5",
   "metadata": {},
   "source": [
    "# 0. Manual configuration during demo"
   ]
  },
  {
   "cell_type": "code",
   "execution_count": null,
   "id": "86b458d6-d75c-4aaf-bc34-188241f239bc",
   "metadata": {},
   "outputs": [],
   "source": [
    "from os import path\n",
    "\n",
    "demo_input_file = path.join('data', 'sample_demo.csv')\n",
    "demo_output_file = path.join('data', 'output-1c.csv')\n",
    "\n",
    "# Set name of the column which will contain the prediction in output.csv\n",
    "OUTPUT_COLUMN_NAME = 'output' # or 'score'? Ask TA."
   ]
  },
  {
   "cell_type": "markdown",
   "id": "d649eb7a-696c-4877-9b81-e4cbb38dd7d7",
   "metadata": {},
   "source": [
    "# 1. Loading demo data"
   ]
  },
  {
   "cell_type": "code",
   "execution_count": null,
   "id": "f7dfdea1-27d7-47f8-a64c-5c987f85c30c",
   "metadata": {},
   "outputs": [],
   "source": [
    "import pandas as pd\n",
    "\n",
    "df = pd.read_csv(demo_input_file, delimiter='\\t')\n",
    "\n",
    "# Correct any mispellings like 'setence'\n",
    "if 'setence1' in df.columns:\n",
    "    df.rename(columns={'setence1': 'sentence1'}, inplace=True)\n",
    "if 'setence2' in df.columns:\n",
    "    df.rename(columns={'setence2': 'sentence2'}, inplace=True)\n",
    "\n",
    "df['sentence1'] = df['sentence1'].astype(str)\n",
    "df['sentence2'] = df['sentence2'].astype(str)\n",
    "df"
   ]
  },
  {
   "cell_type": "markdown",
   "id": "24f06f48-e98f-42f7-b50f-c7bba9be5909",
   "metadata": {},
   "source": [
    "# 2. Load Model"
   ]
  },
  {
   "cell_type": "code",
   "execution_count": null,
   "id": "59801217-9a2e-4305-9b9d-bf0924bb9d66",
   "metadata": {},
   "outputs": [],
   "source": [
    "from sentence_transformers import SentenceTransformer\n",
    "\n",
    "model = SentenceTransformer(\"model-task-1c\")"
   ]
  },
  {
   "cell_type": "markdown",
   "id": "f701f5c6-9324-4af0-ad80-ef2ccbb57a69",
   "metadata": {},
   "source": [
    "# 3. Perform inference"
   ]
  },
  {
   "cell_type": "code",
   "execution_count": null,
   "id": "28e43301-4971-4ab3-ba20-01610519be99",
   "metadata": {},
   "outputs": [],
   "source": [
    "from scipy.spatial.distance import cosine\n",
    "import numpy as np\n",
    "\n",
    "df_results = df.copy()\n",
    "embeddings_col_1 = model.encode(df_results.sentence1, show_progress_bar=True)\n",
    "embeddings_col_2 = model.encode(df_results.sentence2, show_progress_bar=True)\n",
    "\n",
    "predictions = []\n",
    "\n",
    "for embedding_1, embedding_2 in zip(embeddings_col_1, embeddings_col_2):\n",
    "    cos_distance = cosine(embedding_1, embedding_2)\n",
    "    cos_similarity = 1-cos_distance\n",
    "    similarity_scaled = np.clip(cos_similarity * 5, 0, 5)\n",
    "    predictions.append(round(similarity_scaled, 2))\n",
    "\n",
    "df_results[OUTPUT_COLUMN_NAME] = predictions\n",
    "df_results"
   ]
  },
  {
   "cell_type": "code",
   "execution_count": null,
   "id": "9cf166bf-c254-49a8-a0e2-53889fd852fd",
   "metadata": {},
   "outputs": [],
   "source": [
    "df_results.to_csv(\n",
    "    demo_output_file,\n",
    "    sep='\\t'      # Comment if pandas' default separator ',' should be used.\n",
    "                  # '\\t' is used in all provided Google Classroom data.\n",
    ")"
   ]
  }
 ],
 "metadata": {
  "kernelspec": {
   "display_name": "Python 3 (ipykernel)",
   "language": "python",
   "name": "python3"
  },
  "language_info": {
   "codemirror_mode": {
    "name": "ipython",
    "version": 3
   },
   "file_extension": ".py",
   "mimetype": "text/x-python",
   "name": "python",
   "nbconvert_exporter": "python",
   "pygments_lexer": "ipython3",
   "version": "3.8.18"
  }
 },
 "nbformat": 4,
 "nbformat_minor": 5
}
